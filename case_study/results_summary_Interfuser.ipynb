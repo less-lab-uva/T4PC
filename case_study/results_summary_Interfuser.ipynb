{
 "cells": [
  {
   "cell_type": "code",
   "execution_count": null,
   "metadata": {},
   "outputs": [],
   "source": [
    "import os\n",
    "import pandas as pd\n",
    "import json\n",
    "import numpy as np\n",
    "import matplotlib.pyplot as plt\n",
    "import seaborn as sns\n",
    "from pathlib import Path\n",
    "from scipy.stats import ttest_ind"
   ]
  },
  {
   "cell_type": "code",
   "execution_count": null,
   "metadata": {},
   "outputs": [],
   "source": [
    "def get_infractions(record):\n",
    "    infraction_counts = {\n",
    "        'collisions_layout': 0,\n",
    "        'collisions_pedestrian': 0,\n",
    "        'collisions_vehicle': 0,\n",
    "        'outside_route_lanes': 0,\n",
    "        'red_light': 0,\n",
    "        'route_dev': 0,\n",
    "        'route_timeout': 0,\n",
    "        'stop_infraction': 0,\n",
    "        'vehicle_blocked': 0\n",
    "    }\n",
    "    for key, value in record[\"infractions\"].items():\n",
    "        infraction_counts[key] += len(value)\n",
    "    return infraction_counts"
   ]
  },
  {
   "cell_type": "code",
   "execution_count": null,
   "metadata": {},
   "outputs": [],
   "source": [
    "def get_route_df(models_path):\n",
    "    # Define the column names\n",
    "    columns = [\n",
    "        'model_name', 'model_number', 'run', 'route', 'score_composed', 'score_penalty', 'score_route',\n",
    "        'collisions_layout', 'collisions_pedestrian', 'collisions_vehicle', 'outside_route_lanes',\n",
    "        'red_light', 'route_dev', 'route_timeout', 'stop_infraction', 'vehicle_blocked'\n",
    "    ]\n",
    "\n",
    "    # Create an empty DataFrame with the specified columns\n",
    "    df = pd.DataFrame(columns=columns)\n",
    "\n",
    "    # for model in os.listdir(f\"{exp_path}\"):\n",
    "    for model_path in models_path:\n",
    "        # if model in [\"finetuned_baseline__m1\",\"finetuned_baseline__m2\",\"finetuned_baseline__m3\",\"finetuned_baseline__m4\",\"finetuned_baseline__m5\",\"fnc2f__lm1e3__4prop__m1\",\"fnc2f__lm1e3__4prop__m2\",\"fnc2f__lm1e3__4prop__m3\",\"fnc2f__lm1e3__4prop__m4\",\"fnc2f__lm1e3__4prop__m5\"]:\n",
    "        for run in os.listdir(f\"{model_path}\"):\n",
    "            model_name = model_path.split(\"/\")[-2].split(\"__\")[0] + f\"__{model_path.split('/')[-1].split('__')[0]}\"\n",
    "            model_number = model_path.split(\"/\")[-2].split(\"__m\")[1]\n",
    "            results_path = f\"{model_path}/{run}/eval_results.json\"\n",
    "            # Read json file\n",
    "            with open(results_path) as f:\n",
    "                results = json.load(f)\n",
    "            if len(results[\"_checkpoint\"][\"records\"]) != 10:\n",
    "                print(f\"No results in {results_path} | {len(results['_checkpoint']['records'])} \")\n",
    "                continue\n",
    "            for idx in range(10):\n",
    "                record = results['_checkpoint']['records'][idx]\n",
    "                infraction_counts = get_infractions(record)\n",
    "                scores = record[\"scores\"]\n",
    "                \n",
    "                row = [model_name, model_number, int(run.split('run')[1]), idx]\n",
    "                row.extend(list(scores.values()))\n",
    "                row.extend(list(infraction_counts.values()))\n",
    "\n",
    "                numeric_row = [float(x) for x in row[1:]]\n",
    "                row = [row[0]] + numeric_row\n",
    "\n",
    "                df.loc[len(df)] = row\n",
    "    return df"
   ]
  },
  {
   "cell_type": "code",
   "execution_count": null,
   "metadata": {},
   "outputs": [],
   "source": [
    "def plot_dist(stop_inf_no_pl, stop_inf_pl):\n",
    "    data = pd.DataFrame({\n",
    "        'No Pl': stop_inf_no_pl,\n",
    "        'Pl': stop_inf_pl\n",
    "    })\n",
    "    # Plotting the histograms\n",
    "    plt.figure(figsize=(14, 6))\n",
    "\n",
    "    plt.subplot(1, 2, 1)\n",
    "    sns.histplot(stop_inf_no_pl, kde=True, color='blue', label='No Pl', bins=10)\n",
    "    sns.histplot(stop_inf_pl, kde=True, color='red', label='Pl', bins=10)\n",
    "    plt.legend()\n",
    "    plt.title('Histogram of No Pl and Pl')\n",
    "\n",
    "    # Plotting the box plots\n",
    "    plt.subplot(1, 2, 2)\n",
    "    sns.boxplot(data=data)\n",
    "    plt.title('Box Plot of No Pl and Pl')\n",
    "\n",
    "    plt.tight_layout()\n",
    "    plt.show()"
   ]
  },
  {
   "cell_type": "code",
   "execution_count": null,
   "metadata": {},
   "outputs": [],
   "source": [
    "def ttest(stop_inf_no_pl, stop_inf_pl, print_results=False):\n",
    "    t_statistic, p_value = ttest_ind(stop_inf_no_pl, stop_inf_pl)\n",
    "    data = pd.DataFrame({\n",
    "        'No Pl': stop_inf_no_pl,\n",
    "        'Pl': stop_inf_pl\n",
    "    })\n",
    "    aux = data.aggregate(['mean', 'std'])\n",
    "    improvement = (aux[\"No Pl\"][\"mean\"] - aux[\"Pl\"][\"mean\"]) / aux[\"No Pl\"][\"mean\"] * 100\n",
    "    \n",
    "    if print_results:\n",
    "        print(f\"t-statistic: {t_statistic}\")\n",
    "        print(f\"P-value: {p_value}\")\n",
    "        if p_value < 0.05:\n",
    "            print(\"There is a significant difference!\")\n",
    "        print(\"---\")\n",
    "        print(f\"No Pl: {aux['No Pl']['mean']}\")\n",
    "        print(f\"Pl: {aux['Pl']['mean']}\")\n",
    "        print(f\"Improvement: {improvement:.2f}%\")\n",
    "    \n",
    "    return t_statistic, p_value, improvement"
   ]
  },
  {
   "cell_type": "markdown",
   "metadata": {},
   "source": [
    "# Table"
   ]
  },
  {
   "cell_type": "code",
   "execution_count": null,
   "metadata": {},
   "outputs": [],
   "source": [
    "attributes = [\"score_composed\", \"collisions_layout\", \"collisions_pedestrian\", \"collisions_vehicle\", \"outside_route_lanes\", \"red_light\", \"route_dev\", \"route_timeout\", \"stop_infraction\", \"vehicle_blocked\"]\n",
    "avgs = {\n",
    "    \"pl\": {},\n",
    "    \"nopl\": {}\n",
    "}\n",
    "for att in attributes:\n",
    "    avgs[\"pl\"][att] = 0\n",
    "    avgs[\"nopl\"][att] = 0\n",
    "\n",
    "results_df = pd.DataFrame(columns=[\"Treatment\", *attributes])\n",
    "studies = [\"e3\", \"e5\", \"e7\"]\n",
    "base_path = \"./results_summary_interfuser/\"\n",
    "for study in studies:\n",
    "    n_epochs = int(study.split(\"e\")[1])\n",
    "    model_df = {}\n",
    "    for model_type in [\"pl\", \"nopl\"]:\n",
    "        if model_type == \"nopl\":\n",
    "            model_name = \"finetuned_baseline\"\n",
    "        else:\n",
    "            model_name = \"nc2f__lm1e3__4prop\"\n",
    "        study_paths = []\n",
    "        for m in range(1,6):\n",
    "            study_path = base_path + f\"{model_name}__m{m}/{study}__original\"\n",
    "            study_paths.append(study_path)\n",
    "        route_df = get_route_df(study_paths)\n",
    "        if route_df.empty:\n",
    "            continue\n",
    "        else:\n",
    "            model_df[f\"{model_type}\"] = route_df.groupby(['model_name', 'model_number', 'run']).agg(['mean'])\n",
    "\n",
    "    row1 = [f\"T4PC {n_epochs}\"]\n",
    "    row2 = [f\"Base {n_epochs}\"]\n",
    "    for att in attributes:\n",
    "        pl_data = model_df[\"pl\"][att][\"mean\"].tolist()\n",
    "        nopl_data = model_df[\"nopl\"][att][\"mean\"].tolist()\n",
    "        min_data = min(len(nopl_data), len(pl_data))\n",
    "        statistics, p_value, improvement = ttest(nopl_data[:min_data], pl_data[:min_data])\n",
    "\n",
    "        s1 = f\"{model_df['pl'][att]['mean'].mean():.2f}$\\\\pm${model_df['pl'][att]['mean'].std():.2f}\"\n",
    "        avgs[\"pl\"][att] += model_df['pl'][att]['mean'].mean()\n",
    "        s2 = f\"{model_df['nopl'][att]['mean'].mean():.2f}$\\\\pm${model_df['nopl'][att]['mean'].std():.2f}\"\n",
    "        avgs[\"nopl\"][att] += model_df['nopl'][att]['mean'].mean()\n",
    "        if att == \"score_composed\":\n",
    "            improvement = improvement * -1               \n",
    "        if p_value < 0.05:\n",
    "            if improvement > 0:\n",
    "                s1 = \"\\\\textbf{\" + s1 + \"}\"\n",
    "            else:\n",
    "                s2 = \"\\\\textbf{\" + s2 + \"}\"\n",
    "        row1.append(s1)\n",
    "        row2.append(s2)\n",
    "    results_df.loc[len(results_df)] = row1\n",
    "    results_df.loc[len(results_df)] = row2\n",
    "for att in attributes:\n",
    "    avgs[\"pl\"][att] /= len(studies)\n",
    "    avgs[\"nopl\"][att] /= len(studies)"
   ]
  },
  {
   "cell_type": "code",
   "execution_count": null,
   "metadata": {},
   "outputs": [],
   "source": [
    "results_df"
   ]
  },
  {
   "cell_type": "code",
   "execution_count": null,
   "metadata": {},
   "outputs": [],
   "source": [
    "results_df_extended = results_df.copy()\n",
    "results_df_extended.rename(columns={\n",
    "    'score_composed': r'\\makecell{Driving \\\\ Score} $\\uparrow$',\n",
    "    'collisions_pedestrian': r'\\makecell{Collision \\\\ Pedestrians} $\\downarrow$',\n",
    "    'collisions_vehicle': r'\\makecell{Collision \\\\ Vehicles} $\\downarrow$',\n",
    "    'collisions_layout': r'\\makecell{Collision \\\\ Layout} $\\downarrow$',\n",
    "    'red_light': r'\\makecell{Red Light \\\\ Infraction} $\\downarrow$',\n",
    "    'stop_infraction': r'\\makecell{Stop Sign \\\\ Infraction} $\\downarrow$',\n",
    "    'outside_route_lanes': r'\\makecell{Outside \\\\ Lanes} $\\downarrow$',\n",
    "    'route_dev': r'\\makecell{Route \\\\ Deviation} $\\downarrow$',\n",
    "    'route_timeout': r'\\makecell{Route \\\\ Timeout} $\\downarrow$',\n",
    "    'vehicle_blocked': r'\\makecell{Vehicle \\\\ Blocked} $\\downarrow$',\n",
    "    }, inplace=True)\n",
    "results_df_extended"
   ]
  },
  {
   "cell_type": "code",
   "execution_count": null,
   "metadata": {},
   "outputs": [],
   "source": [
    "print(results_df_extended.to_latex(index=False, escape=False))"
   ]
  },
  {
   "cell_type": "code",
   "execution_count": null,
   "metadata": {},
   "outputs": [],
   "source": [
    "results_df_short = results_df.reindex(columns=[\"Treatment\", \"score_composed\", \"collisions_pedestrian\", \"red_light\", \"route_timeout\"])\n",
    "results_df_short.rename(columns={\n",
    "    'score_composed': r'\\makecell{Driving \\\\ Score} $\\uparrow$',\n",
    "    'collisions_pedestrian': r'\\makecell{Collision \\\\ Pedestrians} $\\downarrow$',\n",
    "    'red_light': r'\\makecell{Red Light \\\\ Infraction} $\\downarrow$',\n",
    "    'route_timeout': r'\\makecell{Route \\\\ Timeout} $\\downarrow$',\n",
    "    }, inplace=True)\n",
    "results_df_short"
   ]
  },
  {
   "cell_type": "code",
   "execution_count": null,
   "metadata": {},
   "outputs": [],
   "source": [
    "print(results_df_short.to_latex(index=False, escape=False))"
   ]
  },
  {
   "cell_type": "code",
   "execution_count": null,
   "metadata": {},
   "outputs": [],
   "source": []
  }
 ],
 "metadata": {
  "kernelspec": {
   "display_name": "Python 3",
   "language": "python",
   "name": "python3"
  },
  "language_info": {
   "codemirror_mode": {
    "name": "ipython",
    "version": 3
   },
   "file_extension": ".py",
   "mimetype": "text/x-python",
   "name": "python",
   "nbconvert_exporter": "python",
   "pygments_lexer": "ipython3",
   "version": "3.7.10"
  }
 },
 "nbformat": 4,
 "nbformat_minor": 2
}
